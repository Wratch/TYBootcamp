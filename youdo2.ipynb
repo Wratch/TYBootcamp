{
 "cells": [
  {
   "cell_type": "code",
   "execution_count": 1,
   "id": "1da9744d",
   "metadata": {},
   "outputs": [],
   "source": [
    "import pandas as pd\n",
    "import numpy as np\n",
    "from tqdm import tqdm, trange\n",
    "from itertools import product\n"
   ]
  },
  {
   "cell_type": "code",
   "execution_count": 2,
   "id": "cff42355",
   "metadata": {},
   "outputs": [
    {
     "name": "stderr",
     "output_type": "stream",
     "text": [
      "C:\\Users\\tevfk\\AppData\\Local\\Temp\\ipykernel_39356\\112864681.py:1: ParserWarning: Falling back to the 'python' engine because the 'c' engine does not support regex separators (separators > 1 char and different from '\\s+' are interpreted as regex); you can avoid this warning by specifying engine='python'.\n",
      "  df = pd.read_csv('https://files.grouplens.org/datasets/movielens/ml-100k/u.data', delimiter=r'\\t',\n"
     ]
    }
   ],
   "source": [
    "df = pd.read_csv('https://files.grouplens.org/datasets/movielens/ml-100k/u.data', delimiter=r'\\t',\n",
    "names=['user_id', 'item_id', 'rating', 'timestamp'])\n",
    "r = df.pivot(index='user_id', columns='item_id', values='rating').values"
   ]
  },
  {
   "cell_type": "code",
   "execution_count": 3,
   "id": "6f52d08c",
   "metadata": {},
   "outputs": [
    {
     "data": {
      "text/plain": [
       "(943, 1682)"
      ]
     },
     "execution_count": 3,
     "metadata": {},
     "output_type": "execute_result"
    }
   ],
   "source": [
    "r.shape"
   ]
  },
  {
   "cell_type": "code",
   "execution_count": 4,
   "id": "adcde573",
   "metadata": {},
   "outputs": [
    {
     "data": {
      "text/plain": [
       "array([[ 5.,  3.,  4., ..., nan, nan, nan],\n",
       "       [ 4., nan, nan, ..., nan, nan, nan],\n",
       "       [nan, nan, nan, ..., nan, nan, nan],\n",
       "       ...,\n",
       "       [ 5., nan, nan, ..., nan, nan, nan],\n",
       "       [nan, nan, nan, ..., nan, nan, nan],\n",
       "       [nan,  5., nan, ..., nan, nan, nan]])"
      ]
     },
     "execution_count": 4,
     "metadata": {},
     "output_type": "execute_result"
    }
   ],
   "source": [
    "r"
   ]
  },
  {
   "cell_type": "code",
   "execution_count": 5,
   "id": "358b3cfc",
   "metadata": {},
   "outputs": [
    {
     "data": {
      "text/plain": [
       "(943, 1682)"
      ]
     },
     "execution_count": 5,
     "metadata": {},
     "output_type": "execute_result"
    }
   ],
   "source": [
    "m, n = r.shape\n",
    "m, n"
   ]
  },
  {
   "cell_type": "code",
   "execution_count": 8,
   "id": "ce0a9c51",
   "metadata": {},
   "outputs": [],
   "source": [
    "def alg(r: np.ndarray, alpha: float = 0.001, lamb: float=0.):\n",
    "    alpha = alpha\n",
    "    lamb = lamb\n",
    "    m, n = r.shape\n",
    "    \n",
    "    bi = np.random.random(m)\n",
    "    bj = np.random.random(n)\n",
    "\n",
    "    row, col = np.nonzero(~np.isnan(r))\n",
    "    \n",
    "    with trange(1000) as epochs:\n",
    "        for it in epochs:\n",
    "            total_e = 0\n",
    "            bi_prev = bi.copy()\n",
    "            bj_prev = bj.copy()\n",
    "            for i, j in zip(row, col):\n",
    "                # Prediction of r_ij\n",
    "                y_pred = bi[i] + bj[j]\n",
    "                e = r[i, j] - y_pred\n",
    "                # Gradient descent of biUser and bjItem\n",
    "                g_bi = -e + lamb * bi[i]\n",
    "                g_bj = -e + lamb * bj[i]\n",
    "                \n",
    "                bi[i] += -alpha * g_bi \n",
    "                bj[j] += -alpha * g_bj\n",
    "                 \n",
    "                total_e += e ** 2 * 0.5 + lamb/2 * (bi[i] ** 2 + bj[j] ** 2)\n",
    "                \n",
    "            \n",
    "            epochs.set_description(f'Total Square Error: {total_e:.2f}')\n",
    "            if np.linalg.norm(bi - bi_prev) < (alpha / 10) and np.linalg.norm(bj - bj_prev) < (alpha / 10):\n",
    "            \n",
    "                print(f\"I do early stoping at iteration {it}\")\n",
    "                break"
   ]
  },
  {
   "cell_type": "code",
   "execution_count": 9,
   "id": "95bae125",
   "metadata": {},
   "outputs": [
    {
     "name": "stderr",
     "output_type": "stream",
     "text": [
      "Total Square Error: 41798.90: 100%|███████████████████████████████████████████████████████████████████████████████████| 1000/1000 [04:15<00:00,  3.92it/s]\n"
     ]
    }
   ],
   "source": [
    "alg(r)"
   ]
  }
 ],
 "metadata": {
  "kernelspec": {
   "display_name": "Python 3 (ipykernel)",
   "language": "python",
   "name": "python3"
  },
  "language_info": {
   "codemirror_mode": {
    "name": "ipython",
    "version": 3
   },
   "file_extension": ".py",
   "mimetype": "text/x-python",
   "name": "python",
   "nbconvert_exporter": "python",
   "pygments_lexer": "ipython3",
   "version": "3.8.5"
  }
 },
 "nbformat": 4,
 "nbformat_minor": 5
}
